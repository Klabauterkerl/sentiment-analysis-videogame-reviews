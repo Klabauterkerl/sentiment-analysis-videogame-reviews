{
 "cells": [
  {
   "cell_type": "markdown",
   "source": [
    "# Read in the dataset"
   ],
   "metadata": {
    "collapsed": false
   }
  },
  {
   "cell_type": "code",
   "execution_count": 14,
   "outputs": [],
   "source": [
    "import random\n",
    "import re"
   ],
   "metadata": {
    "collapsed": false
   }
  },
  {
   "cell_type": "code",
   "execution_count": 15,
   "outputs": [],
   "source": [
    "# full datasets, can be used if enough processing speed is available\n",
    "with open(\"data/test.ft.txt\") as file:\n",
    "\ttrain_file_full = file.readlines()\n",
    "\n",
    "with open(\"data/train.ft.txt\") as file:\n",
    "\ttest_file_full = file.readlines()"
   ],
   "metadata": {
    "collapsed": false
   }
  },
  {
   "cell_type": "code",
   "execution_count": 16,
   "metadata": {
    "collapsed": true
   },
   "outputs": [
    {
     "name": "stdout",
     "output_type": "stream",
     "text": [
      "Number of training reviews in the full dataset:  400000\n",
      "Number of testing reviews in the full dataset:  3600000\n"
     ]
    }
   ],
   "source": [
    "print(\"Number of training reviews in the full dataset: \", len(train_file_full))\n",
    "print(\"Number of testing reviews in the full dataset: \", len(test_file_full))"
   ]
  },
  {
   "cell_type": "code",
   "execution_count": 17,
   "outputs": [],
   "source": [
    "# smaller dataset in case not enough processsig speed available\n",
    "\n",
    "num_train = 80_000\n",
    "num_test = 20_000\n",
    "\n",
    "train_file_small = [x for x in random.sample(train_file_full, num_train)]\n",
    "test_file_small = [x for x in random.sample(test_file_full, num_test)]"
   ],
   "metadata": {
    "collapsed": false
   }
  },
  {
   "cell_type": "code",
   "execution_count": 18,
   "outputs": [
    {
     "name": "stdout",
     "output_type": "stream",
     "text": [
      "Number of training reviews in the small dataset:  80000\n",
      "Number of testing reviews in the small dataset:  20000\n"
     ]
    }
   ],
   "source": [
    "print(\"Number of training reviews in the small dataset: \", len(train_file_small))\n",
    "print(\"Number of testing reviews in the small dataset: \", len(test_file_small))"
   ],
   "metadata": {
    "collapsed": false
   }
  },
  {
   "cell_type": "code",
   "execution_count": 19,
   "outputs": [],
   "source": [
    "# free up space taken by the full dataset\n",
    "del test_file_full, train_file_full"
   ],
   "metadata": {
    "collapsed": false
   }
  },
  {
   "cell_type": "markdown",
   "source": [
    "# Preprocessing"
   ],
   "metadata": {
    "collapsed": false
   }
  },
  {
   "cell_type": "code",
   "execution_count": 20,
   "outputs": [],
   "source": [
    "# __label__1 --> 0, __label__2 --> 1\n",
    "train_labels = [0 if x.split(\" \")[0]==\"__label__1\" else 1 for x in train_file_small]\n",
    "# only lowercase values to keep vocab smaller\n",
    "train_sents = [x.split(\" \")[1][:-1].lower() for x in train_file_small]\n",
    "\n",
    "test_labels = [0 if x.split(\" \")[0]==\"__label__1\" else 1 for x in test_file_small]\n",
    "test_sents = [x.split(\" \")[1][:-1].lower() for x in test_file_small]\n",
    "\n",
    "# replace all digits with zeros as numerical data is not relevant\n",
    "# helps reduce the size of the vocabulary and prevents overfitting\n",
    "for i in range(len(train_sents)):\n",
    "\ttrain_sents[i] = re.sub(\"\\d\", \"0\", train_sents[i])\n",
    "\n",
    "for i in range(len(test_sents)):\n",
    "\ttest_sents[i] = re.sub(\"\\d\", \"0\", test_sents[i])\n",
    "\n",
    "# replace all common urls with the placeholder value <url> as again this data is not relevant\n",
    "for i in range(len(train_sents)):\n",
    "\ttrain_sents[i] = re.sub(\"http\\S+\", \"<url>\", train_sents[i])\n",
    "\n",
    "for i in range(len(test_sents)):\n",
    "\ttest_sents[i] = re.sub(\"http\\S+\", \"<url>\", test_sents[i])"
   ],
   "metadata": {
    "collapsed": false
   }
  }
 ],
 "metadata": {
  "kernelspec": {
   "display_name": "Python 3",
   "language": "python",
   "name": "python3"
  },
  "language_info": {
   "codemirror_mode": {
    "name": "ipython",
    "version": 2
   },
   "file_extension": ".py",
   "mimetype": "text/x-python",
   "name": "python",
   "nbconvert_exporter": "python",
   "pygments_lexer": "ipython2",
   "version": "2.7.6"
  }
 },
 "nbformat": 4,
 "nbformat_minor": 0
}

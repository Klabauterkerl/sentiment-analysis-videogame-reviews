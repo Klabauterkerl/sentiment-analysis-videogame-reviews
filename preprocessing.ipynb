{
 "cells": [
  {
   "cell_type": "markdown",
   "source": [
    "# Objective\n",
    "Create a dataset that contains a random sample of reviews"
   ],
   "metadata": {
    "collapsed": false
   }
  },
  {
   "cell_type": "code",
   "execution_count": 1,
   "outputs": [],
   "source": [
    "import ndjson\n",
    "import pandas as pd\n",
    "import numpy as np\n",
    "import seaborn as sns"
   ],
   "metadata": {
    "collapsed": false
   }
  },
  {
   "cell_type": "code",
   "execution_count": 2,
   "outputs": [],
   "source": [
    "with open(\"data/Video_Games_5.json\") as file:\n",
    "\tdata = ndjson.load(file)"
   ],
   "metadata": {
    "collapsed": false
   }
  },
  {
   "cell_type": "code",
   "execution_count": 3,
   "outputs": [],
   "source": [
    "reviews_df = pd.DataFrame(data)"
   ],
   "metadata": {
    "collapsed": false
   }
  },
  {
   "cell_type": "code",
   "execution_count": 4,
   "outputs": [
    {
     "data": {
      "text/plain": "   overall  verified   reviewTime      reviewerID        asin  \\\n0      5.0      True  10 17, 2015  A1HP7NVNPFMA4N  0700026657   \n1      4.0     False  07 27, 2015  A1JGAP0185YJI6  0700026657   \n2      3.0      True  02 23, 2015  A1YJWEXHQBWK2B  0700026657   \n3      2.0      True  02 20, 2015  A2204E1TH211HT  0700026657   \n4      5.0      True  12 25, 2014  A2RF5B5H74JLPE  0700026657   \n\n        reviewerName                                         reviewText  \\\n0        Ambrosia075  This game is a bit hard to get the hang of, bu...   \n1             travis  I played it a while but it was alright. The st...   \n2  Vincent G. Mezera                                           ok game.   \n3         Grandma KR  found the game a bit too complicated, not what...   \n4                jon  great game, I love it and have played it since...   \n\n                                       summary  unixReviewTime vote style  \\\n0                  but when you do it's great.      1445040000  NaN   NaN   \n1  But in spite of that it was fun, I liked it      1437955200  NaN   NaN   \n2                                  Three Stars      1424649600  NaN   NaN   \n3                                    Two Stars      1424390400  NaN   NaN   \n4                               love this game      1419465600  NaN   NaN   \n\n  image  \n0   NaN  \n1   NaN  \n2   NaN  \n3   NaN  \n4   NaN  ",
      "text/html": "<div>\n<style scoped>\n    .dataframe tbody tr th:only-of-type {\n        vertical-align: middle;\n    }\n\n    .dataframe tbody tr th {\n        vertical-align: top;\n    }\n\n    .dataframe thead th {\n        text-align: right;\n    }\n</style>\n<table border=\"1\" class=\"dataframe\">\n  <thead>\n    <tr style=\"text-align: right;\">\n      <th></th>\n      <th>overall</th>\n      <th>verified</th>\n      <th>reviewTime</th>\n      <th>reviewerID</th>\n      <th>asin</th>\n      <th>reviewerName</th>\n      <th>reviewText</th>\n      <th>summary</th>\n      <th>unixReviewTime</th>\n      <th>vote</th>\n      <th>style</th>\n      <th>image</th>\n    </tr>\n  </thead>\n  <tbody>\n    <tr>\n      <th>0</th>\n      <td>5.0</td>\n      <td>True</td>\n      <td>10 17, 2015</td>\n      <td>A1HP7NVNPFMA4N</td>\n      <td>0700026657</td>\n      <td>Ambrosia075</td>\n      <td>This game is a bit hard to get the hang of, bu...</td>\n      <td>but when you do it's great.</td>\n      <td>1445040000</td>\n      <td>NaN</td>\n      <td>NaN</td>\n      <td>NaN</td>\n    </tr>\n    <tr>\n      <th>1</th>\n      <td>4.0</td>\n      <td>False</td>\n      <td>07 27, 2015</td>\n      <td>A1JGAP0185YJI6</td>\n      <td>0700026657</td>\n      <td>travis</td>\n      <td>I played it a while but it was alright. The st...</td>\n      <td>But in spite of that it was fun, I liked it</td>\n      <td>1437955200</td>\n      <td>NaN</td>\n      <td>NaN</td>\n      <td>NaN</td>\n    </tr>\n    <tr>\n      <th>2</th>\n      <td>3.0</td>\n      <td>True</td>\n      <td>02 23, 2015</td>\n      <td>A1YJWEXHQBWK2B</td>\n      <td>0700026657</td>\n      <td>Vincent G. Mezera</td>\n      <td>ok game.</td>\n      <td>Three Stars</td>\n      <td>1424649600</td>\n      <td>NaN</td>\n      <td>NaN</td>\n      <td>NaN</td>\n    </tr>\n    <tr>\n      <th>3</th>\n      <td>2.0</td>\n      <td>True</td>\n      <td>02 20, 2015</td>\n      <td>A2204E1TH211HT</td>\n      <td>0700026657</td>\n      <td>Grandma KR</td>\n      <td>found the game a bit too complicated, not what...</td>\n      <td>Two Stars</td>\n      <td>1424390400</td>\n      <td>NaN</td>\n      <td>NaN</td>\n      <td>NaN</td>\n    </tr>\n    <tr>\n      <th>4</th>\n      <td>5.0</td>\n      <td>True</td>\n      <td>12 25, 2014</td>\n      <td>A2RF5B5H74JLPE</td>\n      <td>0700026657</td>\n      <td>jon</td>\n      <td>great game, I love it and have played it since...</td>\n      <td>love this game</td>\n      <td>1419465600</td>\n      <td>NaN</td>\n      <td>NaN</td>\n      <td>NaN</td>\n    </tr>\n  </tbody>\n</table>\n</div>"
     },
     "execution_count": 4,
     "metadata": {},
     "output_type": "execute_result"
    }
   ],
   "source": [
    "reviews_df.head()"
   ],
   "metadata": {
    "collapsed": false
   }
  },
  {
   "cell_type": "markdown",
   "source": [
    "# Types of Data\n",
    "- overall: users product rating\n",
    "- verified: verified purchase on amazon\n",
    "- reviewTime: when was the review published\n",
    "- reviewerID: unique identifier of the reviewer\n",
    "- asin: product id\n",
    "- reviewerName: username of reviewer\n",
    "- reviewText: text of review\n",
    "- summary: summary/headline of review text\n",
    "- unixReviewTime: when was the review published (unixtime)\n",
    "- vote: was the review marked as helpful by other users?\n",
    "- style: different styles available for product (e.g. color)\n",
    "- image: image attached to the review"
   ],
   "metadata": {
    "collapsed": false
   }
  },
  {
   "cell_type": "code",
   "execution_count": 5,
   "outputs": [
    {
     "data": {
      "text/plain": "(497577, 12)"
     },
     "execution_count": 5,
     "metadata": {},
     "output_type": "execute_result"
    }
   ],
   "source": [
    "reviews_df.shape"
   ],
   "metadata": {
    "collapsed": false
   }
  },
  {
   "cell_type": "code",
   "execution_count": 6,
   "outputs": [
    {
     "name": "stdout",
     "output_type": "stream",
     "text": [
      "<class 'pandas.core.frame.DataFrame'>\n",
      "RangeIndex: 497577 entries, 0 to 497576\n",
      "Data columns (total 12 columns):\n",
      " #   Column          Non-Null Count   Dtype  \n",
      "---  ------          --------------   -----  \n",
      " 0   overall         497577 non-null  float64\n",
      " 1   verified        497577 non-null  bool   \n",
      " 2   reviewTime      497577 non-null  object \n",
      " 3   reviewerID      497577 non-null  object \n",
      " 4   asin            497577 non-null  object \n",
      " 5   reviewerName    497501 non-null  object \n",
      " 6   reviewText      497419 non-null  object \n",
      " 7   summary         497468 non-null  object \n",
      " 8   unixReviewTime  497577 non-null  int64  \n",
      " 9   vote            107793 non-null  object \n",
      " 10  style           289237 non-null  object \n",
      " 11  image           3634 non-null    object \n",
      "dtypes: bool(1), float64(1), int64(1), object(9)\n",
      "memory usage: 42.2+ MB\n"
     ]
    }
   ],
   "source": [
    "reviews_df.info()"
   ],
   "metadata": {
    "collapsed": false
   }
  },
  {
   "cell_type": "code",
   "execution_count": 7,
   "outputs": [
    {
     "data": {
      "text/plain": "<AxesSubplot: xlabel='overall', ylabel='count'>"
     },
     "execution_count": 7,
     "metadata": {},
     "output_type": "execute_result"
    },
    {
     "data": {
      "text/plain": "<Figure size 640x480 with 1 Axes>",
      "image/png": "[encoded data removed]"
     },
     "metadata": {},
     "output_type": "display_data"
    }
   ],
   "source": [
    "sns.countplot(data=reviews_df, x=\"overall\")"
   ],
   "metadata": {
    "collapsed": false
   }
  },
  {
   "cell_type": "code",
   "execution_count": 8,
   "outputs": [
    {
     "data": {
      "text/plain": "17408"
     },
     "execution_count": 8,
     "metadata": {},
     "output_type": "execute_result"
    }
   ],
   "source": [
    "len(reviews_df[\"asin\"].value_counts(dropna=False))"
   ],
   "metadata": {
    "collapsed": false
   }
  },
  {
   "cell_type": "markdown",
   "source": [
    "# Undersampling of reviews\n",
    "As this dataset is quite heavily biased to towards the 5 star reviews this dataset needs to be balanced out"
   ],
   "metadata": {
    "collapsed": false
   }
  },
  {
   "cell_type": "code",
   "execution_count": 9,
   "outputs": [],
   "source": [
    "one_1500 = reviews_df[reviews_df[\"overall\"]==1.0].sample(n=1500)\n",
    "two_500 = reviews_df[reviews_df[\"overall\"]==2.0].sample(n=500)\n",
    "three_500 = reviews_df[reviews_df[\"overall\"]==3.0].sample(n=500)\n",
    "four_500 = reviews_df[reviews_df[\"overall\"]==4.0].sample(n=500)\n",
    "five_1500 = reviews_df[reviews_df[\"overall\"]==5.0].sample(n=1500)"
   ],
   "metadata": {
    "collapsed": false
   }
  },
  {
   "cell_type": "code",
   "execution_count": 10,
   "outputs": [],
   "source": [
    "undersampled_reviews = pd.concat([one_1500, two_500, three_500, four_500, five_1500], axis=0)"
   ],
   "metadata": {
    "collapsed": false
   }
  },
  {
   "cell_type": "code",
   "execution_count": 11,
   "outputs": [
    {
     "data": {
      "text/plain": "1.0    1500\n5.0    1500\n2.0     500\n3.0     500\n4.0     500\nName: overall, dtype: int64"
     },
     "execution_count": 11,
     "metadata": {},
     "output_type": "execute_result"
    }
   ],
   "source": [
    "undersampled_reviews[\"overall\"].value_counts(dropna=False)"
   ],
   "metadata": {
    "collapsed": false
   }
  },
  {
   "cell_type": "code",
   "execution_count": 12,
   "outputs": [
    {
     "data": {
      "text/plain": "<AxesSubplot: xlabel='overall', ylabel='count'>"
     },
     "execution_count": 12,
     "metadata": {},
     "output_type": "execute_result"
    },
    {
     "data": {
      "text/plain": "<Figure size 640x480 with 1 Axes>",
      "image/png": "[encoded data removed]"
     },
     "metadata": {},
     "output_type": "display_data"
    }
   ],
   "source": [
    "sns.countplot(undersampled_reviews, x=\"overall\")"
   ],
   "metadata": {
    "collapsed": false
   }
  },
  {
   "cell_type": "markdown",
   "source": [
    "# Random sample of 100K Reviews"
   ],
   "metadata": {
    "collapsed": false
   }
  },
  {
   "cell_type": "code",
   "execution_count": 13,
   "outputs": [],
   "source": [
    "sample_100K_revs = reviews_df.sample(n=100_000, random_state=42)"
   ],
   "metadata": {
    "collapsed": false
   }
  },
  {
   "cell_type": "markdown",
   "source": [
    "# Writing corpora"
   ],
   "metadata": {
    "collapsed": false
   }
  },
  {
   "cell_type": "code",
   "execution_count": 14,
   "outputs": [],
   "source": [
    "undersampled_reviews.to_csv(\"data/small_corpus.csv\")"
   ],
   "metadata": {
    "collapsed": false
   }
  },
  {
   "cell_type": "code",
   "execution_count": 15,
   "outputs": [],
   "source": [
    "sample_100K_revs.to_csv(\"data/big_corpus.csv\")"
   ],
   "metadata": {
    "collapsed": false
   }
  },
  {
   "cell_type": "markdown",
   "source": [],
   "metadata": {
    "collapsed": false
   }
  }
 ],
 "metadata": {
  "kernelspec": {
   "display_name": "Python 3",
   "language": "python",
   "name": "python3"
  },
  "language_info": {
   "codemirror_mode": {
    "name": "ipython",
    "version": 2
   },
   "file_extension": ".py",
   "mimetype": "text/x-python",
   "name": "python",
   "nbconvert_exporter": "python",
   "pygments_lexer": "ipython2",
   "version": "2.7.6"
  }
 },
 "nbformat": 4,
 "nbformat_minor": 0
}
